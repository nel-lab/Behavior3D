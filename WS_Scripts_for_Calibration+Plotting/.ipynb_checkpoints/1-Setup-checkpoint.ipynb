{
 "cells": [
  {
   "cell_type": "markdown",
   "metadata": {},
   "source": [
    "# Calibration Setup Guide"
   ]
  },
  {
   "cell_type": "markdown",
   "metadata": {},
   "source": [
    "### Created on Thu Dec  5 11:47:31 2019\n",
    "\n",
    "@author: williamstanford"
   ]
  },
  {
   "cell_type": "markdown",
   "metadata": {},
   "source": [
    "#### This script enables you to capture images that you can use to calibrate your camera\n",
    "\n",
    "Things to keep in mind\n",
    "    1. Plan ahead when condsidering your real world coordinate system\n",
    "        - moving something from one peg to another is approximately 25.4mm \n",
    "        - with our micromanipulator, you have approximately 40 milimeters of horizontal freedom\n",
    "            and 30 milimeters of vertical freedom\n",
    "    2. regular increments make it easier to tell if you're off or missed a picture\n",
    "        - Suggestions - 5, 8, or 10mm horizontally, 5, or 10mm vertically\n",
    "    3. Save your planned real coordinates as an ods file with the X,Y,Z coordinates\n",
    "        - see realPoints.ods as an example. \n",
    "        - make sure you have a space between the beginning of your cooridnates and the \n",
    "             top of the ods sheet\n",
    "    3. Make sure to note the order of your cameras at this stage - you need to keep\n",
    "        this consistent in later parts of processing\n",
    "        \n",
    "Before running, you may need to start up your cameras by running the following code in terminal/command line:\n",
    "\n",
    "conda activate pseye\n",
    "sudo chmod o+w /dev/bus/usb/001/*\n",
    "sudo chmod o+w /dev/bus/usb/002/*"
   ]
  },
  {
   "cell_type": "code",
   "execution_count": null,
   "metadata": {},
   "outputs": [],
   "source": [
    "from pseyepy import Camera, Display\n",
    "import numpy as np\n",
    "import matplotlib.pyplot as plt\n",
    "import os \n",
    "\n",
    "path = '/home/nel-lab/Desktop/Behavior3D'\n",
    "os.chdir(path)"
   ]
  },
  {
   "cell_type": "markdown",
   "metadata": {},
   "source": [
    "Here, set num_cameras to the number of cameras you have connected."
   ]
  },
  {
   "cell_type": "code",
   "execution_count": null,
   "metadata": {},
   "outputs": [],
   "source": [
    "num_cameras = 3\n",
    "c = Camera(list(range(3)), \n",
    "           fps=[70]*num_cameras, \n",
    "           resolution=[Camera.RES_LARGE]*num_cameras, \n",
    "           colour=[False]*num_cameras)"
   ]
  },
  {
   "cell_type": "markdown",
   "metadata": {},
   "source": [
    "To make sure that the cameras are displaying properly, with the correct orientation, run the following code to open, then close the display."
   ]
  },
  {
   "cell_type": "code",
   "execution_count": null,
   "metadata": {},
   "outputs": [],
   "source": [
    "d = Display(c)"
   ]
  },
  {
   "cell_type": "code",
   "execution_count": null,
   "metadata": {},
   "outputs": [],
   "source": [
    "d.end()"
   ]
  },
  {
   "cell_type": "markdown",
   "metadata": {},
   "source": [
    "Initialize the movie. Set the number of frames to however many points you need for calibration."
   ]
  },
  {
   "cell_type": "code",
   "execution_count": null,
   "metadata": {},
   "outputs": [],
   "source": [
    "frames, timestamps = c.read()\n",
    "frame_size = frames[0].shape\n",
    "num_frames = 10\n",
    "mov = np.zeros([num_frames, num_cameras, frame_size[0], frame_size[1]], dtype=np.uint8)"
   ]
  },
  {
   "cell_type": "markdown",
   "metadata": {},
   "source": [
    "Set the calibration tool to your preferred start position, then run the following code. After pressing enter, adjust the calibration tool to the next position. \n",
    "\n",
    "You may wish to create a .csv or Excel file titled \"real_coordinates.ods\" with x, y, z as headers and the millimeters you plan to move the calibration tool planned out. Follow this when calibrating to avoid confusion."
   ]
  },
  {
   "cell_type": "code",
   "execution_count": null,
   "metadata": {},
   "outputs": [],
   "source": [
    "for i in range(num_frames): \n",
    "    frames, timestamps = c.read()\n",
    "    frames, timestamps = c.read()\n",
    "    mov[i] = np.array(frames)\n",
    "    plt.imshow(mov[i,1,:,:])\n",
    "    plt.title(\"Calibration point \" + str(i))\n",
    "    plt.pause(0.001)\n",
    "    input(\"Press enter to view image\")"
   ]
  },
  {
   "cell_type": "markdown",
   "metadata": {},
   "source": [
    "Note the order of cameras by running the code below and recording which index number corresponds to which camera."
   ]
  },
  {
   "cell_type": "code",
   "execution_count": null,
   "metadata": {},
   "outputs": [],
   "source": [
    "for camera in range(num_cameras):\n",
    "    plt.imshow(mov[i,camera,:,:])\n",
    "    plt.title(\"Camera \" + str(camera)+\", Image \" + str(i))    \n",
    "    plt.pause(0.001)\n",
    "    input(\"Press enter to continue\")"
   ]
  },
  {
   "cell_type": "markdown",
   "metadata": {},
   "source": [
    "Save movie."
   ]
  },
  {
   "cell_type": "code",
   "execution_count": 2,
   "metadata": {},
   "outputs": [
    {
     "ename": "NameError",
     "evalue": "name 'num_cameras' is not defined",
     "output_type": "error",
     "traceback": [
      "\u001b[0;31m---------------------------------------------------------------------------\u001b[0m",
      "\u001b[0;31mNameError\u001b[0m                                 Traceback (most recent call last)",
      "\u001b[0;32m<ipython-input-2-621f3a89bf56>\u001b[0m in \u001b[0;36m<module>\u001b[0;34m\u001b[0m\n\u001b[1;32m      1\u001b[0m \u001b[0mbase_name\u001b[0m \u001b[0;34m=\u001b[0m \u001b[0;34m'recal_3_cam_'\u001b[0m\u001b[0;34m\u001b[0m\u001b[0;34m\u001b[0m\u001b[0m\n\u001b[1;32m      2\u001b[0m \u001b[0mfilenames\u001b[0m \u001b[0;34m=\u001b[0m \u001b[0;34m[\u001b[0m\u001b[0;34m'0.npz'\u001b[0m\u001b[0;34m,\u001b[0m \u001b[0;34m'1.npz'\u001b[0m\u001b[0;34m,\u001b[0m \u001b[0;34m'2.npz'\u001b[0m\u001b[0;34m]\u001b[0m\u001b[0;34m\u001b[0m\u001b[0;34m\u001b[0m\u001b[0m\n\u001b[0;32m----> 3\u001b[0;31m \u001b[0mfilenames\u001b[0m \u001b[0;34m=\u001b[0m \u001b[0;34m[\u001b[0m\u001b[0mstr\u001b[0m\u001b[0;34m(\u001b[0m\u001b[0mi\u001b[0m\u001b[0;34m)\u001b[0m\u001b[0;34m+\u001b[0m\u001b[0;34m'.npz'\u001b[0m \u001b[0;32mfor\u001b[0m \u001b[0mi\u001b[0m \u001b[0;32min\u001b[0m \u001b[0mrange\u001b[0m\u001b[0;34m(\u001b[0m\u001b[0mnum_cameras\u001b[0m\u001b[0;34m)\u001b[0m\u001b[0;34m]\u001b[0m\u001b[0;34m\u001b[0m\u001b[0;34m\u001b[0m\u001b[0m\n\u001b[0m\u001b[1;32m      4\u001b[0m \u001b[0;34m\u001b[0m\u001b[0m\n\u001b[1;32m      5\u001b[0m \u001b[0;32mfor\u001b[0m \u001b[0mindex\u001b[0m\u001b[0;34m,\u001b[0m\u001b[0mfls\u001b[0m \u001b[0;32min\u001b[0m \u001b[0menumerate\u001b[0m\u001b[0;34m(\u001b[0m\u001b[0mfilenames\u001b[0m\u001b[0;34m)\u001b[0m\u001b[0;34m:\u001b[0m\u001b[0;34m\u001b[0m\u001b[0;34m\u001b[0m\u001b[0m\n",
      "\u001b[0;31mNameError\u001b[0m: name 'num_cameras' is not defined"
     ]
    }
   ],
   "source": [
    "base_name = 'recal_3_cam_'\n",
    "filenames = [str(i)+'.npz' for i in range(num_cameras)]\n",
    "\n",
    "for index,fls in enumerate(filenames):\n",
    "    np.savez(\"mov_\" + base_name + fls, movie = mov[:,index,:,:])"
   ]
  },
  {
   "cell_type": "markdown",
   "metadata": {},
   "source": [
    "Close the cameras to end the process."
   ]
  },
  {
   "cell_type": "code",
   "execution_count": null,
   "metadata": {},
   "outputs": [],
   "source": [
    "c.end()"
   ]
  }
 ],
 "metadata": {
  "kernelspec": {
   "display_name": "Python 3",
   "language": "python",
   "name": "python3"
  },
  "language_info": {
   "codemirror_mode": {
    "name": "ipython",
    "version": 3
   },
   "file_extension": ".py",
   "mimetype": "text/x-python",
   "name": "python",
   "nbconvert_exporter": "python",
   "pygments_lexer": "ipython3",
   "version": "3.7.4"
  }
 },
 "nbformat": 4,
 "nbformat_minor": 2
}
