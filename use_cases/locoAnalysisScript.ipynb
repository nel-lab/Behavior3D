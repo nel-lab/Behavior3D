{
 "cells": [
  {
   "cell_type": "markdown",
   "metadata": {},
   "source": [
    "Analysis script to analyze pose tracking data from DeepLabCut. Takes 2D coordinates from each camera and converts them to 3D. Outputs various analyses and plots of limb positions in 3D space. \n",
    "\n",
    "Structure is such that the cell \"Main Script\" runs the primary function RunAll which calls the other processing functions. "
   ]
  },
  {
   "cell_type": "markdown",
   "metadata": {},
   "source": [
    "SET PATHS AND IMPORT MODULES"
   ]
  },
  {
   "cell_type": "code",
   "execution_count": 30,
   "metadata": {},
   "outputs": [],
   "source": [
    "#Customize this paths dictionary for your local paths. \n",
    "pathsDict = {\n",
    "    'coordPath': 'D:\\data\\Behavior data\\dlc_data_201020\\coords and dlc\\model_1_coordinates.csv', \n",
    "    'DLCPath': 'D:\\data\\Behavior data\\dlc_data_201020\\coords and dlc',\n",
    "    'PlotPath' : 'D:\\data\\Behavior data\\dlc_data_201020\\Plotting files'\n",
    "}\n"
   ]
  },
  {
   "cell_type": "code",
   "execution_count": 34,
   "metadata": {},
   "outputs": [],
   "source": [
    "import os\n",
    "from functools import reduce    # used to get common bodyparts amoung different cameras\n",
    "import numpy as np\n",
    "import pandas as pd\n",
    "import matplotlib.pyplot as plt\n",
    "from mpl_toolkits.mplot3d import Axes3D\n",
    "from matplotlib import animation, rc\n",
    "from IPython.display import HTML\n",
    "\n",
    "from sklearn.model_selection import train_test_split\n",
    "from sklearn.svm import SVR\n",
    "from sklearn.multioutput import MultiOutputRegressor\n",
    "from sklearn.metrics import mean_squared_error\n",
    "from sklearn.model_selection import cross_val_predict"
   ]
  },
  {
   "cell_type": "markdown",
   "metadata": {},
   "source": [
    "FUNCTIONS"
   ]
  },
  {
   "cell_type": "code",
   "execution_count": 8,
   "metadata": {},
   "outputs": [],
   "source": [
    "# BUILD MODEL - uses 2D coordinates (probably obtained by a calibration experiment) to estimate coordinates in 3D\n",
    "# input: path to coordinate csv file, list of model IDs as strings ['fl'/'fr'/'bot'] (optional: long = 1 to show results and MSE for SVM model)\n",
    "# output: trained SVM regressor that converts model cameras (2D) to X/Y/Z\n",
    "\n",
    "def Build_Model(coordinatePath, model, long = 0):\n",
    "\n",
    "    All_Data = pd.read_csv(coordinatePath)\n",
    "\n",
    "    mod_col = []\n",
    "    for m in model:\n",
    "        mod_col.append(m.upper()+'_x')\n",
    "        mod_col.append(m.upper()+'_y')\n",
    "    mod_col += ['X','Y','Z']\n",
    "    All_Data = All_Data[mod_col]\n",
    "    \n",
    "    X_train_full, X_test, y_train_full, y_test = train_test_split( \n",
    "            All_Data.iloc[:,:-3], All_Data.iloc[:,-3:], random_state=42,  test_size = 0.25)\n",
    "    \n",
    "    svm = SVR(kernel=\"poly\", degree=2, C=1500, epsilon=0.01, gamma=\"scale\")\n",
    "    regr = MultiOutputRegressor(svm)\n",
    "    regr.fit(X_train_full, y_train_full)\n",
    "\n",
    "    if long:\n",
    "        test_predictions = regr.predict(X_test)\n",
    "        test_MSE = mean_squared_error(test_predictions, y_test)\n",
    "        print('Test MSE: ' + str(test_MSE))\n",
    "        \n",
    "        X = All_Data.iloc[:,:-3]\n",
    "        Y = All_Data.iloc[:,-3:]\n",
    "        \n",
    "        CV_predictions = cross_val_predict(regr, X, Y, cv=10)\n",
    "        MSE = mean_squared_error(CV_predictions, Y)\n",
    "        print('CV MSE: ' + str(MSE))\n",
    "\n",
    "        fig = plt.figure()\n",
    "        ax = fig.add_subplot(111, projection='3d')\n",
    "        ax.scatter(CV_predictions[:,0], CV_predictions[:,1], CV_predictions[:,2], color = 'blue', label = 'pred')\n",
    "        ax.scatter(All_Data.iloc[:,-3], All_Data.iloc[:,-2], All_Data.iloc[:,-1], color = 'red', label = 'real')\n",
    "        plt.legend()\n",
    "\n",
    "    return regr"
   ]
  },
  {
   "cell_type": "code",
   "execution_count": 9,
   "metadata": {},
   "outputs": [],
   "source": [
    "# PREPROCESS DLC\n",
    "# input: DLC csv as df\n",
    "# output: processed DLC file with likelihood values and extra info removed\n",
    "\n",
    "def PreProcess_DLC_data(df):\n",
    "\n",
    "    for y in range (df.shape[1]):        \n",
    "        df.rename(columns={df.columns[y]:df.iloc[0,y]+'_'+df.iloc[1,y]}, inplace=True)\n",
    "        \n",
    "    df_proc = df.iloc[2:,1:]\n",
    "    \n",
    "    li_columns = [col for col in df_proc.columns if 'likelihood' in col]\n",
    "    df_proc = df_proc.drop(columns=li_columns)\n",
    "\n",
    "    df_proc = df_proc.astype(float).reset_index(drop=1)\n",
    "        \n",
    "    return df_proc"
   ]
  },
  {
   "cell_type": "code",
   "execution_count": 10,
   "metadata": {},
   "outputs": [],
   "source": [
    "# STANDARDIZE COLUMNS\n",
    "# input: list of preprocessed DLC dfs\n",
    "# output: list of standardized DLC dfs (only includes common bodyparts/columns), list of bodyparts/columns\n",
    "\n",
    "def Standardize_columns(dfs):\n",
    "   \n",
    "    col = []\n",
    "    for df in dfs:\n",
    "        col.append(df.columns.tolist())\n",
    "\n",
    "    same_col = reduce(np.intersect1d, col)\n",
    "    if len(same_col) == 0:\n",
    "        print('no matching body parts amongst all cameras!')\n",
    "        return None, None\n",
    "    \n",
    "    columns = []\n",
    "    for col in same_col[::2]:\n",
    "        columns.append(col[:-2]+'_X')\n",
    "        columns.append(col[:-2]+'_Y')\n",
    "        columns.append(col[:-2]+'_Z')\n",
    "\n",
    "    dfs_stand = []\n",
    "    for df in dfs:\n",
    "        dfs_stand.append(df[same_col])\n",
    "\n",
    "    return dfs_stand, columns"
   ]
  },
  {
   "cell_type": "code",
   "execution_count": 11,
   "metadata": {},
   "outputs": [],
   "source": [
    "# PREDICT X/Y/Z\n",
    "# input: list of standardized dfs, number of bodyparts, number of cameras, trained regressor\n",
    "# output: numpy array of predicted X/Y/Z (rows = frames, columns = X/Y/Z per bodypart - 3*number of bodyparts)\n",
    "\n",
    "def Predict_Real_Coordinates(dfs, bodyparts, numCameras, regr):\n",
    "\n",
    "    df1, df2 = dfs[0], dfs[1]\n",
    "\n",
    "    if numCameras == 3:\n",
    "        df3 = dfs[2]\n",
    "    elif numCameras > 3:\n",
    "        print('only works with 2 or 3 cameras, can implement more later')\n",
    "        return\n",
    "\n",
    "    rows = df1.shape[0]\n",
    "    columns = 2*numCameras\n",
    "    \n",
    "    test_data = np.zeros([rows, columns*bodyparts])\n",
    "    \n",
    "    for r in range(bodyparts):\n",
    "        test_data[:,columns*r] = df1.iloc[:,2*r]\n",
    "        test_data[:,columns*r+1] = df1.iloc[:,2*r+1]\n",
    "        \n",
    "        test_data[:,columns*r+2] = df2.iloc[:,2*r]\n",
    "        test_data[:,columns*r+3] = df2.iloc[:,2*r+1]\n",
    "        \n",
    "        if numCameras == 3:\n",
    "            test_data[:,columns*r+4] = df3.iloc[:,2*r]\n",
    "            test_data[:,columns*r+5] = df3.iloc[:,2*r+1]\n",
    "    \n",
    "    Predictions = np.zeros([rows,3*bodyparts])\n",
    "    \n",
    "    for i in range(bodyparts):\n",
    "        Predictions[:,3*i:(3*i+3)] = regr.predict(test_data[:,columns*i:(columns*i+columns)])\n",
    "        \n",
    "    return Predictions"
   ]
  },
  {
   "cell_type": "code",
   "execution_count": 12,
   "metadata": {},
   "outputs": [],
   "source": [
    "# RUN ENTIRE PIPELINE\n",
    "# input: path to coordinate csv, path to folder containing DLC csvs, list of model IDs as strings ['fl'/'fr'/'bot']\n",
    "# output: df of predicted X/Y/Z coordinates for common bodyparts in model\n",
    "\n",
    "def RunAll(cpath, dlcpath, model):\n",
    "    \n",
    "    # build model\n",
    "    model_regr = Build_Model(cpath, model)\n",
    "\n",
    "    # preproccess DLC data\n",
    "    front_left = pd.read_csv(dlcpath + '/front_left.csv')\n",
    "    front_right = pd.read_csv(dlcpath + '/front_right.csv') \n",
    "    bot = pd.read_csv(dlcpath + '/bot.csv')\n",
    "    # back_left = pd.read_csv(dlcpath + '/back_left.csv')\n",
    "    # back_right = pd.read_csv(dlcpath + '/back_right.csv')\n",
    "\n",
    "    mod_front_left = PreProcess_DLC_data(front_left)\n",
    "    mod_front_right = PreProcess_DLC_data(front_right)\n",
    "    mod_bot = PreProcess_DLC_data(bot)\n",
    "    # mod_back_left = PreProcess_DLC_data(back_left)\n",
    "    # mod_back_right = PreProcess_DLC_data(back_right)\n",
    "\n",
    "    # pull dfs based on model\n",
    "    dfs = []\n",
    "    for m in model:\n",
    "        if m.lower() == 'fl':\n",
    "            dfs.append(mod_front_left)\n",
    "        elif m.lower() == 'fr':\n",
    "            dfs.append(mod_front_right)\n",
    "        elif m.lower() == 'bot':\n",
    "            dfs.append(mod_bot)\n",
    "        elif m.lower() == 'bl':\n",
    "            dfs.append(mod_back_left)\n",
    "        elif m.lower() == 'br':\n",
    "            dfs.append(mod_back_right)\n",
    "        else:\n",
    "            print('model is not in form FL/FR/BOT/BL/BR')\n",
    "            return\n",
    "\n",
    "    # standardize dfs\n",
    "    dfs_stand, columns = Standardize_columns(dfs)\n",
    "    if not dfs_stand or not columns:\n",
    "        return\n",
    "\n",
    "    # predict X/Y/Z for all bodyparts\n",
    "    bodyparts = dfs_stand[0].shape[1]//2\n",
    "    numCameras = len(dfs_stand)\n",
    "    m1 = Predict_Real_Coordinates(dfs_stand, bodyparts, numCameras, model_regr)\n",
    "    m1df = pd.DataFrame(m1)\n",
    "    m1df.columns = columns\n",
    "\n",
    "    # remove tail from models with only 2 cameras since 3 camera model should be better\n",
    "    if numCameras == 2 and 'tail' in [c[:4].lower() for c in columns]:\n",
    "        cols = [c for c in m1df.columns if c.lower()[:4] != 'tail']\n",
    "        m1df=m1df[cols]\n",
    "\n",
    "    return m1df"
   ]
  },
  {
   "cell_type": "code",
   "execution_count": 31,
   "metadata": {},
   "outputs": [],
   "source": [
    "# helper function to quickly create/switch to folder for different trials\n",
    "# input: trial number\n",
    "# output: n/a, prints new path\n",
    "\n",
    "def chdr(trial_num, pathsDict):\n",
    "    \n",
    "    path = pathsDict['PlotPath'] + '\\\\trial ' +str(trial_num)\n",
    "    if not os.path.isdir(path):\n",
    "        os.mkdir(path)\n",
    "\n",
    "    os.chdir(path)\n",
    "    print(os.getcwd())\n",
    "    \n",
    "    return"
   ]
  },
  {
   "cell_type": "code",
   "execution_count": 28,
   "metadata": {},
   "outputs": [
    {
     "name": "stdout",
     "output_type": "stream",
     "text": [
      "['D:\\\\data\\\\Behavior data\\\\dlc_data_201020\\\\Plotting files\\trial \\\\trial 11']\n"
     ]
    }
   ],
   "source": [
    "trial_num = 11\n",
    "print([pathsDict['PlotPath'] + '\\\\trial ' + str(trial_num)])\n"
   ]
  },
  {
   "cell_type": "markdown",
   "metadata": {},
   "source": [
    "RUN PIPELINE TO PRODUCE MODELS"
   ]
  },
  {
   "cell_type": "code",
   "execution_count": 1,
   "metadata": {},
   "outputs": [],
   "source": [
    "#this_df_bot = pd.read_csv('D:\\data\\Behavior data\\dlc_data_201020\\coords and dlc\\bot.csv')"
   ]
  },
  {
   "cell_type": "code",
   "execution_count": 2,
   "metadata": {},
   "outputs": [],
   "source": [
    "#model_1_coords.head(30)"
   ]
  },
  {
   "cell_type": "code",
   "execution_count": 14,
   "metadata": {},
   "outputs": [
    {
     "data": {
      "text/plain": [
       "19"
      ]
     },
     "execution_count": 14,
     "metadata": {},
     "output_type": "execute_result"
    }
   ],
   "source": [
    "model_1_coords['Z'].max()"
   ]
  },
  {
   "cell_type": "code",
   "execution_count": 4,
   "metadata": {},
   "outputs": [],
   "source": [
    "model_1_coords = this_df_bot"
   ]
  },
  {
   "cell_type": "code",
   "execution_count": 14,
   "metadata": {
    "tags": []
   },
   "outputs": [],
   "source": [
    "#Main Script to call which preprocesses and analyzes data. \n",
    "\n",
    "# build model with all 3 cameras\n",
    "df_all = RunAll(pathsDict['coordPath'], pathsDict['DLCPath'], ['bot','fl','fr'])\n",
    "\n",
    "# build model for each paw seperately\n",
    "fl = RunAll(pathsDict['coordPath'], pathsDict['DLCPath'], ['bot','fl'])\n",
    "fr = RunAll(pathsDict['coordPath'], pathsDict['DLCPath'], ['bot','fr'])\n",
    "lpaw = fl.filter([col for col in fl.columns if col[0] == 'L'])\n",
    "rpaw = fr.filter([col for col in fr.columns if col[0] == 'R'])\n",
    "df_all_sep = pd.concat([lpaw, rpaw], axis=1)\n",
    "\n",
    "# combine best data\n",
    "# left paw seperate, right paw from all 3 cameras\n",
    "rpawbest = df_all.filter([col for col in df_all.columns if col[0] == 'R'])\n",
    "df_all_best = pd.concat([lpaw, rpawbest], axis=1)"
   ]
  },
  {
   "cell_type": "markdown",
   "metadata": {},
   "source": [
    "\n",
    "<br/><br/>\n",
    "<br/><br/>\n",
    "<br/><br/>\n",
    "PLOT MODELS\n",
    "<br/><br/>\n",
    "<br/><br/>\n",
    "<br/><br/>"
   ]
  },
  {
   "cell_type": "markdown",
   "metadata": {},
   "source": [
    "FUNCTIONS"
   ]
  },
  {
   "cell_type": "code",
   "execution_count": 15,
   "metadata": {
    "tags": []
   },
   "outputs": [],
   "source": [
    "# PLOT CUMULATIVE SNAPSHOT OF ALL POINTS\n",
    "# input: model df\n",
    "# output: PNG plot of cumulative snapshot\n",
    "\n",
    "def cum_plot(pred):\n",
    "    \n",
    "    # find min/max for axes limits\n",
    "    col_X = [col for col in pred.columns if col[-1] == 'X']\n",
    "    col_Y = [col for col in pred.columns if col[-1] == 'Y']\n",
    "    col_Z = [col for col in pred.columns if col[-1] == 'Z']\n",
    "\n",
    "    edge = 10\n",
    "    Xlim = [pred[col_X].min().min()-edge, pred[col_X].max().max()+edge]\n",
    "    Ylim = [pred[col_Y].min().min()-edge, pred[col_Y].max().max()+edge]\n",
    "    Zlim = [pred[col_Z].min().min()-edge, pred[col_Z].max().max()+edge]\n",
    "\n",
    "    # set up figure\n",
    "    fig = plt.figure()\n",
    "    ax = fig.add_subplot(111, projection='3d')\n",
    "    title = ax.set_title('Mouse Animation')\n",
    "    ax.set_xlim(Xlim)\n",
    "    ax.set_ylim(Ylim)\n",
    "    ax.set_zlim(Zlim)\n",
    "    ax.set_xlabel('X')\n",
    "    ax.set_ylabel('Y')\n",
    "    ax.set_zlabel('Z')\n",
    "\n",
    "    # SET VIEW\n",
    "    ax.view_init(0,180)\n",
    "    \n",
    "    # plot points\n",
    "    rpaw,lpaw,tail,brpaw,blpaw,other = (False,)*6\n",
    "    for x,bpart in enumerate(col_X):\n",
    "        if bpart[:4].lower() == 'lpaw':\n",
    "            pcolor = 'red'\n",
    "            lpaw = True\n",
    "        elif bpart[:4].lower() == 'rpaw':\n",
    "            pcolor = 'blue'\n",
    "            rpaw = True\n",
    "        elif bpart[:9].lower() == 'back_lpaw':\n",
    "            pcolor = 'purple'\n",
    "            blpaw = True\n",
    "        elif bpart[:9].lower() == 'back_rpaw':\n",
    "            pcolor = 'orange'\n",
    "            brpaw = True\n",
    "        elif bpart[:4].lower() == 'tail':\n",
    "            pcolor = 'black'\n",
    "            tail = True\n",
    "        else:\n",
    "            print('body part not recognized')\n",
    "            pcolor = 'yellow'\n",
    "            other = True\n",
    "\n",
    "        start = 3*x\n",
    "        end = 3*x+3\n",
    "        temp = pred.iloc[:,start:end]\n",
    "        ax.scatter(temp.iloc[:,0], temp.iloc[:,1], temp.iloc[:,2], color = pcolor, alpha = 0.1)\n",
    "\n",
    "    # create legend\n",
    "    patches = []\n",
    "    if lpaw == True:\n",
    "        patch, = plt.plot([],[], marker=\"o\", ls='', color='red', label='LPaw')\n",
    "        patches.append(patch)\n",
    "    if rpaw == True:\n",
    "        patch, = plt.plot([],[], marker=\"o\", ls='', color='blue', label='RPaw')\n",
    "        patches.append(patch)\n",
    "    if blpaw == True:\n",
    "        patch, = plt.plot([],[], marker=\"o\", ls='', color='purple', label='Back LPaw')\n",
    "        patches.append(patch)\n",
    "    if brpaw == True:\n",
    "        patch, = plt.plot([],[], marker=\"o\", ls='', color='orange', label='Back RPaw')\n",
    "        patches.append(patch)\n",
    "    if tail == True:\n",
    "        patch, = plt.plot([],[], marker=\"o\", ls='', color='black', label='Tail')\n",
    "        patches.append(patch)\n",
    "    if other == True:\n",
    "        patch, = plt.plot([],[], marker=\"o\", ls='', color='yellow', label='Unknown Part')\n",
    "        patches.append(patch)\n",
    "    \n",
    "    plt.legend(handles=patches, loc='lower center', ncol = len(col_X))\n",
    "   \n",
    "    # save figure\n",
    "\n",
    "    # SET TITLE\n",
    "    title = 'cumulative snapshot best.png'\n",
    "\n",
    "    plt.savefig(title)\n",
    "\n",
    "    return"
   ]
  },
  {
   "cell_type": "code",
   "execution_count": 44,
   "metadata": {
    "tags": []
   },
   "outputs": [],
   "source": [
    "# ANIMATE MODEL\n",
    "# input: model df\n",
    "# output: mp4 of animated model\n",
    "\n",
    "def Animate(pred):\n",
    "    \n",
    "    # find min/max for axes limits\n",
    "    col_X = [col for col in pred.columns if col[-1] == 'X']\n",
    "    col_Y = [col for col in pred.columns if col[-1] == 'Y']\n",
    "    col_Z = [col for col in pred.columns if col[-1] == 'Z']\n",
    "\n",
    "    edge = 10\n",
    "    Xlim = [pred[col_X].min().min()-edge, pred[col_X].max().max()+edge]\n",
    "    Ylim = [pred[col_Y].min().min()-edge, pred[col_Y].max().max()+edge]\n",
    "    Zlim = [pred[col_Z].min().min()-edge, pred[col_Z].max().max()+edge]\n",
    "\n",
    "    # set up figure\n",
    "    fig = plt.figure()\n",
    "    ax = fig.add_subplot(111, projection='3d')\n",
    "    title = ax.set_title('Mouse Animation')\n",
    "    ax.set_xlim(Xlim)\n",
    "    ax.set_ylim(Ylim)\n",
    "    ax.set_zlim(Zlim)\n",
    "    ax.set_xlabel('X')\n",
    "    ax.set_ylabel('Y')\n",
    "    ax.set_zlabel('Z')\n",
    "\n",
    "    # SET VIEW\n",
    "    ax.view_init(45,180)\n",
    "    \n",
    "    # hide axes\n",
    "    ax.set_axis_off()\n",
    "\n",
    "    # update function for animation\n",
    "    def update(num, df, graphs):\n",
    "        \n",
    "        for i,g in enumerate(graphs):\n",
    "            start = 3*i\n",
    "            end = 3*i+3\n",
    "            temp = df[df.index==num].iloc[:,start:end]\n",
    "            temp.columns = ['x','y','z']\n",
    "            g._offsets3d = (temp.x, temp.y, temp.z)\n",
    "        \n",
    "        # SET TITLE FOR EACH FRAME\n",
    "        title.set_text('Frame {} of {}'.format(num+1, df.shape[0]))\n",
    "        \n",
    "        # optional, use to rotate view while animating\n",
    "        # ax.view_init(25, 250+num)\n",
    "\n",
    "    # plot initial points\n",
    "    rpaw,lpaw,tail,brpaw,blpaw,other = (False,)*6\n",
    "    graph = []\n",
    "    for x,bpart in enumerate(col_X):\n",
    "        if bpart[:4].lower() == 'lpaw' and bpart[5].lower() == 'd':\n",
    "            pcolor = 'red'\n",
    "            lpaw = True\n",
    "        elif bpart[:4].lower() == 'rpaw' and bpart[5].lower() == 'd':\n",
    "            pcolor = 'blue'\n",
    "            rpaw = True\n",
    "        elif bpart[:4].lower() == 'lpaw' and bpart[5].lower() != 'd':\n",
    "            pcolor = 'green'\n",
    "            lpawc = True\n",
    "        elif bpart[:4].lower() == 'rpaw' and bpart[5].lower() != 'd':\n",
    "            pcolor = 'orange'\n",
    "            rpawc = True\n",
    "        else:\n",
    "            print('body part not recognized')\n",
    "            pcolor = 'yellow'\n",
    "            other = True\n",
    "\n",
    "        start = 3*x\n",
    "        end = 3*x+3\n",
    "        temp = pred[pred.index==0].iloc[:,start:end]\n",
    "        temp.columns = ['x','y','z']\n",
    "        graph.append(ax.scatter(temp.x, temp.y, temp.z, color=pcolor))\n",
    "\n",
    "    # create legend\n",
    "    patches = []\n",
    "    if lpawc == True:\n",
    "        patch, = plt.plot([],[], marker=\"o\", ls='', color='green', label='LPaw Center')\n",
    "        patches.append(patch)\n",
    "    if lpaw == True:\n",
    "        patch, = plt.plot([],[], marker=\"o\", ls='', color='red', label='LPaw')\n",
    "        patches.append(patch)\n",
    "    if rpawc == True:\n",
    "        patch, = plt.plot([],[], marker=\"o\", ls='', color='orange', label='RPaw Center')\n",
    "        patches.append(patch)\n",
    "    if rpaw == True:\n",
    "        patch, = plt.plot([],[], marker=\"o\", ls='', color='blue', label='RPaw')\n",
    "        patches.append(patch)\n",
    "    if other == True:\n",
    "        patch, = plt.plot([],[], marker=\"o\", ls='', color='black', label='Unknown Part')\n",
    "        patches.append(patch)\n",
    "    \n",
    "    plt.legend(handles=patches, loc='lower center', ncol = 2)\n",
    "    \n",
    "    # run animation function @ 70 fps (interval = 1000 ms/70)\n",
    "    anim = animation.FuncAnimation(fig, update, pred.shape[0], interval=1000/70, repeat=0, fargs = (pred, graph))\n",
    "    \n",
    "    #switch to allow embedded animation in jupyter notebook\n",
    "    rc('animation', html='html5')\n",
    "    \n",
    "    # save animation\n",
    "\n",
    "    # SET TITLE\n",
    "    f_name = 'mouse_best_6000.mp4'\n",
    "    \n",
    "    #anim.save(f_name)\n",
    "    # print saved to know when it's done\n",
    "    print('saved')\n",
    "    \n",
    "    return anim"
   ]
  },
  {
   "cell_type": "markdown",
   "metadata": {},
   "source": [
    "RUN PLOTTING FUNCTIONS"
   ]
  },
  {
   "cell_type": "code",
   "execution_count": 37,
   "metadata": {},
   "outputs": [],
   "source": [
    "%matplotlib inline\n"
   ]
  },
  {
   "cell_type": "code",
   "execution_count": 32,
   "metadata": {},
   "outputs": [
    {
     "name": "stdout",
     "output_type": "stream",
     "text": [
      "Using matplotlib backend: Qt5Agg\n",
      "D:\\data\\Behavior data\\dlc_data_201020\\Plotting files\\trial 11\n"
     ]
    }
   ],
   "source": [
    "# must use matplotlib backend to properly show animation\n",
    "# using '% matplotlib inline' WILL NOT work\n",
    "%matplotlib\n",
    "\n",
    "# change path to current trial for saving plots\n",
    "chdr(11, pathsDict)\n",
    "\n",
    "# create cumulative snapshot\n",
    "cum_plot(df_all_best)"
   ]
  },
  {
   "cell_type": "code",
   "execution_count": 43,
   "metadata": {},
   "outputs": [
    {
     "name": "stdout",
     "output_type": "stream",
     "text": [
      "saved\n"
     ]
    },
    {
     "ename": "RuntimeError",
     "evalue": "Requested MovieWriter (ffmpeg) not available",
     "output_type": "error",
     "traceback": [
      "\u001b[1;31m---------------------------------------------------------------------------\u001b[0m",
      "\u001b[1;31mKeyError\u001b[0m                                  Traceback (most recent call last)",
      "\u001b[1;32m~\\Anaconda3\\lib\\site-packages\\matplotlib\\animation.py\u001b[0m in \u001b[0;36m__getitem__\u001b[1;34m(self, name)\u001b[0m\n\u001b[0;32m    160\u001b[0m         \u001b[1;32mtry\u001b[0m\u001b[1;33m:\u001b[0m\u001b[1;33m\u001b[0m\u001b[1;33m\u001b[0m\u001b[0m\n\u001b[1;32m--> 161\u001b[1;33m             \u001b[1;32mreturn\u001b[0m \u001b[0mself\u001b[0m\u001b[1;33m.\u001b[0m\u001b[0mavail\u001b[0m\u001b[1;33m[\u001b[0m\u001b[0mname\u001b[0m\u001b[1;33m]\u001b[0m\u001b[1;33m\u001b[0m\u001b[1;33m\u001b[0m\u001b[0m\n\u001b[0m\u001b[0;32m    162\u001b[0m         \u001b[1;32mexcept\u001b[0m \u001b[0mKeyError\u001b[0m\u001b[1;33m:\u001b[0m\u001b[1;33m\u001b[0m\u001b[1;33m\u001b[0m\u001b[0m\n",
      "\u001b[1;31mKeyError\u001b[0m: 'ffmpeg'",
      "\nDuring handling of the above exception, another exception occurred:\n",
      "\u001b[1;31mRuntimeError\u001b[0m                              Traceback (most recent call last)",
      "\u001b[1;32m~\\Anaconda3\\lib\\site-packages\\IPython\\core\\formatters.py\u001b[0m in \u001b[0;36m__call__\u001b[1;34m(self, obj)\u001b[0m\n\u001b[0;32m    343\u001b[0m             \u001b[0mmethod\u001b[0m \u001b[1;33m=\u001b[0m \u001b[0mget_real_method\u001b[0m\u001b[1;33m(\u001b[0m\u001b[0mobj\u001b[0m\u001b[1;33m,\u001b[0m \u001b[0mself\u001b[0m\u001b[1;33m.\u001b[0m\u001b[0mprint_method\u001b[0m\u001b[1;33m)\u001b[0m\u001b[1;33m\u001b[0m\u001b[1;33m\u001b[0m\u001b[0m\n\u001b[0;32m    344\u001b[0m             \u001b[1;32mif\u001b[0m \u001b[0mmethod\u001b[0m \u001b[1;32mis\u001b[0m \u001b[1;32mnot\u001b[0m \u001b[1;32mNone\u001b[0m\u001b[1;33m:\u001b[0m\u001b[1;33m\u001b[0m\u001b[1;33m\u001b[0m\u001b[0m\n\u001b[1;32m--> 345\u001b[1;33m                 \u001b[1;32mreturn\u001b[0m \u001b[0mmethod\u001b[0m\u001b[1;33m(\u001b[0m\u001b[1;33m)\u001b[0m\u001b[1;33m\u001b[0m\u001b[1;33m\u001b[0m\u001b[0m\n\u001b[0m\u001b[0;32m    346\u001b[0m             \u001b[1;32mreturn\u001b[0m \u001b[1;32mNone\u001b[0m\u001b[1;33m\u001b[0m\u001b[1;33m\u001b[0m\u001b[0m\n\u001b[0;32m    347\u001b[0m         \u001b[1;32melse\u001b[0m\u001b[1;33m:\u001b[0m\u001b[1;33m\u001b[0m\u001b[1;33m\u001b[0m\u001b[0m\n",
      "\u001b[1;32m~\\Anaconda3\\lib\\site-packages\\matplotlib\\animation.py\u001b[0m in \u001b[0;36m_repr_html_\u001b[1;34m(self)\u001b[0m\n\u001b[0;32m   1400\u001b[0m         \u001b[0mfmt\u001b[0m \u001b[1;33m=\u001b[0m \u001b[0mrcParams\u001b[0m\u001b[1;33m[\u001b[0m\u001b[1;34m'animation.html'\u001b[0m\u001b[1;33m]\u001b[0m\u001b[1;33m\u001b[0m\u001b[1;33m\u001b[0m\u001b[0m\n\u001b[0;32m   1401\u001b[0m         \u001b[1;32mif\u001b[0m \u001b[0mfmt\u001b[0m \u001b[1;33m==\u001b[0m \u001b[1;34m'html5'\u001b[0m\u001b[1;33m:\u001b[0m\u001b[1;33m\u001b[0m\u001b[1;33m\u001b[0m\u001b[0m\n\u001b[1;32m-> 1402\u001b[1;33m             \u001b[1;32mreturn\u001b[0m \u001b[0mself\u001b[0m\u001b[1;33m.\u001b[0m\u001b[0mto_html5_video\u001b[0m\u001b[1;33m(\u001b[0m\u001b[1;33m)\u001b[0m\u001b[1;33m\u001b[0m\u001b[1;33m\u001b[0m\u001b[0m\n\u001b[0m\u001b[0;32m   1403\u001b[0m         \u001b[1;32melif\u001b[0m \u001b[0mfmt\u001b[0m \u001b[1;33m==\u001b[0m \u001b[1;34m'jshtml'\u001b[0m\u001b[1;33m:\u001b[0m\u001b[1;33m\u001b[0m\u001b[1;33m\u001b[0m\u001b[0m\n\u001b[0;32m   1404\u001b[0m             \u001b[1;32mreturn\u001b[0m \u001b[0mself\u001b[0m\u001b[1;33m.\u001b[0m\u001b[0mto_jshtml\u001b[0m\u001b[1;33m(\u001b[0m\u001b[1;33m)\u001b[0m\u001b[1;33m\u001b[0m\u001b[1;33m\u001b[0m\u001b[0m\n",
      "\u001b[1;32m~\\Anaconda3\\lib\\site-packages\\matplotlib\\animation.py\u001b[0m in \u001b[0;36mto_html5_video\u001b[1;34m(self, embed_limit)\u001b[0m\n\u001b[0;32m   1337\u001b[0m                 \u001b[1;31m# We create a writer manually so that we can get the\u001b[0m\u001b[1;33m\u001b[0m\u001b[1;33m\u001b[0m\u001b[1;33m\u001b[0m\u001b[0m\n\u001b[0;32m   1338\u001b[0m                 \u001b[1;31m# appropriate size for the tag\u001b[0m\u001b[1;33m\u001b[0m\u001b[1;33m\u001b[0m\u001b[1;33m\u001b[0m\u001b[0m\n\u001b[1;32m-> 1339\u001b[1;33m                 \u001b[0mWriter\u001b[0m \u001b[1;33m=\u001b[0m \u001b[0mwriters\u001b[0m\u001b[1;33m[\u001b[0m\u001b[0mrcParams\u001b[0m\u001b[1;33m[\u001b[0m\u001b[1;34m'animation.writer'\u001b[0m\u001b[1;33m]\u001b[0m\u001b[1;33m]\u001b[0m\u001b[1;33m\u001b[0m\u001b[1;33m\u001b[0m\u001b[0m\n\u001b[0m\u001b[0;32m   1340\u001b[0m                 writer = Writer(codec='h264',\n\u001b[0;32m   1341\u001b[0m                                 \u001b[0mbitrate\u001b[0m\u001b[1;33m=\u001b[0m\u001b[0mrcParams\u001b[0m\u001b[1;33m[\u001b[0m\u001b[1;34m'animation.bitrate'\u001b[0m\u001b[1;33m]\u001b[0m\u001b[1;33m,\u001b[0m\u001b[1;33m\u001b[0m\u001b[1;33m\u001b[0m\u001b[0m\n",
      "\u001b[1;32m~\\Anaconda3\\lib\\site-packages\\matplotlib\\animation.py\u001b[0m in \u001b[0;36m__getitem__\u001b[1;34m(self, name)\u001b[0m\n\u001b[0;32m    162\u001b[0m         \u001b[1;32mexcept\u001b[0m \u001b[0mKeyError\u001b[0m\u001b[1;33m:\u001b[0m\u001b[1;33m\u001b[0m\u001b[1;33m\u001b[0m\u001b[0m\n\u001b[0;32m    163\u001b[0m             raise RuntimeError(\n\u001b[1;32m--> 164\u001b[1;33m                 'Requested MovieWriter ({}) not available'.format(name))\n\u001b[0m\u001b[0;32m    165\u001b[0m \u001b[1;33m\u001b[0m\u001b[0m\n\u001b[0;32m    166\u001b[0m \u001b[1;33m\u001b[0m\u001b[0m\n",
      "\u001b[1;31mRuntimeError\u001b[0m: Requested MovieWriter (ffmpeg) not available"
     ]
    },
    {
     "data": {
      "text/plain": [
       "<matplotlib.animation.FuncAnimation at 0x1bcd5ba4ba8>"
      ]
     },
     "execution_count": 43,
     "metadata": {},
     "output_type": "execute_result"
    },
    {
     "name": "stderr",
     "output_type": "stream",
     "text": [
      "Traceback (most recent call last):\n",
      "  File \"C:\\Users\\Jake\\Anaconda3\\lib\\site-packages\\matplotlib\\cbook\\__init__.py\", line 215, in process\n",
      "    func(*args, **kwargs)\n",
      "  File \"C:\\Users\\Jake\\Anaconda3\\lib\\site-packages\\matplotlib\\animation.py\", line 999, in _start\n",
      "    self._init_draw()\n",
      "  File \"C:\\Users\\Jake\\Anaconda3\\lib\\site-packages\\matplotlib\\animation.py\", line 1740, in _init_draw\n",
      "    self._draw_frame(next(self.new_frame_seq()))\n",
      "  File \"C:\\Users\\Jake\\Anaconda3\\lib\\site-packages\\matplotlib\\animation.py\", line 1762, in _draw_frame\n",
      "    self._drawn_artists = self._func(framedata, *self._args)\n",
      "  File \"<ipython-input-42-3705b21fe44f>\", line 45, in update\n",
      "    title.set_text('Frame {} of {}'.format(num+1, df.shape[0]))\n",
      "AttributeError: 'str' object has no attribute 'set_text'\n"
     ]
    },
    {
     "data": {
      "image/png": "[encoded data removed]",
      "text/plain": [
       "<Figure size 432x288 with 1 Axes>"
      ]
     },
     "metadata": {
      "needs_background": "light"
     },
     "output_type": "display_data"
    }
   ],
   "source": [
    "# create animation   #NOT WORKING with Jupyter\n",
    "Animate(df_all_best)"
   ]
  },
  {
   "cell_type": "code",
   "execution_count": null,
   "metadata": {},
   "outputs": [],
   "source": []
  },
  {
   "cell_type": "markdown",
   "metadata": {},
   "source": [
    "<br/><br/>\n",
    "<br/><br/>\n",
    "<br/><br/>\n",
    "ID 2D CAMERA OUTLIERS\n",
    "<br/><br/>\n",
    "<br/><br/>\n",
    "<br/><br/>"
   ]
  },
  {
   "cell_type": "markdown",
   "metadata": {},
   "source": [
    "IMPORT MODULES"
   ]
  },
  {
   "cell_type": "code",
   "execution_count": 21,
   "metadata": {},
   "outputs": [],
   "source": [
    "from matplotlib.patches import Rectangle\n",
    "from scipy import stats"
   ]
  },
  {
   "cell_type": "markdown",
   "metadata": {},
   "source": [
    "FUNCTIONS"
   ]
  },
  {
   "cell_type": "code",
   "execution_count": 22,
   "metadata": {},
   "outputs": [],
   "source": [
    "# PREPROCESS DLC AND KEEP LIKELIHOOD VALUES\n",
    "# input: DLC csv as df\n",
    "# output: processed DLC file with extra info removed, list of likelihood columns\n",
    "\n",
    "def pp(df):\n",
    "\n",
    "    for y in range (df.shape[1]):        \n",
    "        df.rename(columns={df.columns[y]:df.iloc[0,y]+'_'+df.iloc[1,y]}, inplace=True)\n",
    "        \n",
    "    df_proc = df.iloc[2:,1:]\n",
    "    df_proc = df_proc.astype(float).reset_index(drop=1)\n",
    "\n",
    "    licol = [col for col in df_proc.columns if 'likelihood' in col]\n",
    "        \n",
    "    return df_proc, licol"
   ]
  },
  {
   "cell_type": "code",
   "execution_count": 23,
   "metadata": {
    "tags": []
   },
   "outputs": [],
   "source": [
    "# PLOT 2D PLOT OF BODYPART IN CAMERA VIEW WITH OUTLIERS ID'd\n",
    "# input: preprocessed DLC df, camera ID as string ('fl','fr','bot'), list of low likelihood values to ID as outlier\n",
    "# output: seperate PNG plot for each bodypart in camera view\n",
    "\n",
    "\n",
    "def plot2d(df,cam,l):\n",
    "    \n",
    "    # create/switch to folder for each camera\n",
    "    # CHANGE TO LOCAL PATH/TRIAL FOLDER\n",
    "    path = 'D:/data/Behavior data/dlc_data_201020/Plotting files/trial 11/' + cam\n",
    "    if not os.path.isdir(path):\n",
    "        os.mkdir(path)\n",
    "    os.chdir(path)\n",
    "\n",
    "    parts = [col[:-2] for col in df.columns[::3]]\n",
    "    for i,p in enumerate(parts):\n",
    "        fig = plt.figure()\n",
    "        fig.clf()\n",
    "        ax = fig.add_subplot(111)\n",
    "        rect1 = Rectangle((0, 0), 640, 480, fill=0, color='k', ls='--')\n",
    "        x = p+'_x'\n",
    "        y = p+'_y'\n",
    "\n",
    "        # ID outliers using IQR\n",
    "        dist = np.sqrt(df[x]**2+df[y]**2)\n",
    "        Q1 = dist.quantile(0.25)\n",
    "        Q3 = dist.quantile(0.75)\n",
    "        IQR = Q3 - Q1\n",
    "        mask_IQR = (dist < (Q1 - 1.5 * IQR)) | (dist > (Q3 + 1.5 * IQR))\n",
    "        idx_IQR = dist[mask_IQR].index.values\n",
    "\n",
    "\n",
    "        # ID outliers using Z score\n",
    "        z = np.abs(stats.zscore(dist))\n",
    "        mask_z = z>3\n",
    "        idx_z = dist[mask_z].index.values\n",
    "\n",
    "        # print(p,'outlier likelihood IQR:')\n",
    "        # print(*df.iloc[idx_IQR,3*i-1].values, sep='\\n')\n",
    "        # print(p,'outlier likelihood z-score:')\n",
    "        # print(*df.iloc[idx_z,3*i-1].values, sep='\\n')\n",
    "        # print()\n",
    "\n",
    "        # plot points\n",
    "        ax.scatter(df[x],df[y], label = 'points')\n",
    "        # plot outliers based on likelihood values in yellow\n",
    "        ax.scatter(df[x][l[i]], df[y][l[i]], color='yellow', label = 'likelihood outliers')\n",
    "        # circle outliers based on Z score in red\n",
    "        ax.scatter(df[x][idx_z], df[y][idx_z], facecolors='none', edgecolors='r', s=50, label = 'z score outliers')\n",
    "\n",
    "        if df[x].min() > 0 and df[x].max() < 640 and df[y].min() > 0 and df[y].max() < 480:\n",
    "            plt.xlim([0,640])\n",
    "            plt.ylim([0,480])\n",
    "        else:\n",
    "            ax.add_artist(rect1)\n",
    "            plt.xlim([min(df[x].min(), 0) - 10, max(df[x].max(), 640) + 10])\n",
    "            plt.ylim([min(df[y].min(), 0) - 10, max(df[y].max(), 480) + 10])\n",
    "\n",
    "        plt.title(p)\n",
    "        plt.legend()\n",
    "        plt.savefig(p)\n",
    "        plt.close()\n",
    "\n",
    "    return"
   ]
  },
  {
   "cell_type": "markdown",
   "metadata": {},
   "source": [
    "PROCESS DLC FILES AND PLOT WITH OUTLIERS ID'd"
   ]
  },
  {
   "cell_type": "code",
   "execution_count": 24,
   "metadata": {
    "tags": []
   },
   "outputs": [
    {
     "name": "stdout",
     "output_type": "stream",
     "text": [
      "done with fl\n",
      "done with fr\n",
      "done with bot\n"
     ]
    }
   ],
   "source": [
    "# process DLC files\n",
    "# local path to DLC folder\n",
    "front_left = pd.read_csv(pathsDict['DLCPath'] + '/front_left.csv')\n",
    "front_right = pd.read_csv(pathsDict['DLCPath'] + '/front_right.csv') \n",
    "bot = pd.read_csv(pathsDict['DLCPath'] + '/bot.csv')\n",
    "\n",
    "# preprocess\n",
    "fl, fl_li = pp(front_left)\n",
    "fr, fr_li = pp(front_right)\n",
    "bot, bot_li = pp(bot)\n",
    "\n",
    "# list of models/cameras/likelihood columns to iterate over to produce plots\n",
    "mod = [fl,fr,bot]\n",
    "cam = ['fl','fr','bot']\n",
    "lik = [fl_li,fr_li,bot_li]\n",
    "\n",
    "# threshold level for likelihood values\n",
    "perc = .01\n",
    "\n",
    "for m,c,li in zip(mod,cam,lik):\n",
    "\n",
    "    # find low likelihood values to ID as outlier\n",
    "    low = []\n",
    "    for col in m[li].columns:\n",
    "        low.append(m[m[col]<perc].index.values.tolist())\n",
    "\n",
    "    # create plot\n",
    "    plot2d(m,c,low)\n",
    "    \n",
    "    # print message when done\n",
    "    print('done with',c)"
   ]
  },
  {
   "cell_type": "markdown",
   "metadata": {},
   "source": [
    "<br/><br/>\n",
    "<br/><br/>\n",
    "<br/><br/>\n",
    "ID WHEN MOUSE IS STOPPED\n",
    "<br/><br/>\n",
    "defined as when absolute value of Z velocity is less than user-defined threshold for user-defined duration\n",
    "<br/><br/>\n",
    "<br/><br/>\n",
    "<br/><br/>"
   ]
  },
  {
   "cell_type": "code",
   "execution_count": 25,
   "metadata": {},
   "outputs": [],
   "source": [
    "# GET FRAMES WHERE PAWS ARE STOPPED\n",
    "# input: list of dfs for each paw\n",
    "# output: ids - every frame where a paw is stopped\n",
    "#         ids_range - range of frames where any paw is stopped\n",
    "#         ids_range_common - range of frames where all paws are stopped\n",
    "\n",
    "def get_ids(dfs):\n",
    "\n",
    "    all_ids = []\n",
    "\n",
    "    for df in dfs:\n",
    "        dfZ = df[[col for col in df.columns if col[-5:] == 'paw_Z']]\n",
    "        npZ  = dfZ.to_numpy().ravel()\n",
    "        diff = np.gradient(npZ)\n",
    "\n",
    "        # SET VELOCITY THRESHOLD\n",
    "        tol = .2\n",
    "\n",
    "        stop_id = np.array(np.where(abs(diff)<tol)).ravel()\n",
    "        ids = []\n",
    "\n",
    "        # SET DURATION\n",
    "        dur = 70\n",
    "\n",
    "        passing = 0\n",
    "        for i,val in enumerate(stop_id[:-dur]):\n",
    "            if stop_id[i+dur-1] == val+dur-1:\n",
    "                ids.append(i)\n",
    "                passing = 0\n",
    "            elif i-1 in ids and not passing:\n",
    "                ids.extend(np.arange(i,i+dur-1))\n",
    "                passing = dur-1\n",
    "            elif passing:\n",
    "                passing -= 1\n",
    "            else:\n",
    "                pass\n",
    "\n",
    "        all_ids.append(stop_id[ids])\n",
    "\n",
    "    # any paw stopped\n",
    "    ids = list(sorted(set([i for sl in all_ids for i in sl])))\n",
    "    gaps = [[s, e] for s, e in zip(ids, ids[1:]) if s+1 < e]\n",
    "    edges = iter(ids[:1] + sum(gaps, []) + ids[-1:])\n",
    "    ids_range = list(zip(edges, edges))\n",
    "\n",
    "    # all paws stopped\n",
    "    common = set(all_ids[0])\n",
    "    for s in all_ids[1:]:\n",
    "        common.intersection_update(s)\n",
    "\n",
    "    ids_common = list(sorted(common))\n",
    "    gaps_common = [[s, e] for s, e in zip(ids_common, ids_common[1:]) if s+1 < e]\n",
    "    edges_common = iter(ids_common[:1] + sum(gaps_common, []) + ids_common[-1:])\n",
    "    ids_range_common = list(zip(edges_common, edges_common))\n",
    "\n",
    "    return ids, ids_range, ids_range_common"
   ]
  },
  {
   "cell_type": "markdown",
   "metadata": {},
   "source": [
    "PLOT Z OVER TIME AND ID WHEN STOPPED"
   ]
  },
  {
   "cell_type": "code",
   "execution_count": 27,
   "metadata": {},
   "outputs": [
    {
     "name": "stdout",
     "output_type": "stream",
     "text": [
      "D:\\data\\Behavior data\\dlc_data_201020\\Plotting files\\trial 11\n",
      "Using matplotlib backend: Qt5Agg\n"
     ]
    }
   ],
   "source": [
    "# plot X/Y/Z over time (see when walking)\n",
    "\n",
    "chdr(11, pathsDict)\n",
    "%matplotlib\n",
    "\n",
    "# get ids when stopped for left/right paw\n",
    "ids, ids_r, ids_r_com = get_ids([lpaw, rpawbest])\n",
    "\n",
    "# plot Z for left/right paw\n",
    "df_z = df_all[[col for col in df_all.columns if col[-3] == 'w' and col[-1] == 'Z']]\n",
    "df_z.plot()\n",
    "plt.title('Paw Elev')\n",
    "# plt.ylim(-20,50)\n",
    "\n",
    "# overlay ranges where paw is stopped\n",
    "for i,val in enumerate(ids_r_com):\n",
    "    plt.axvspan(val[0], val[1], color='r', alpha=0.2, label='_'*i + 'stop')\n",
    "\n",
    "# function to offset xticks\n",
    "def offset_xticks(xlabels):\n",
    "    return ('\\n%.2f' % label if i % 2 else '%.2f' % label for i, label in enumerate(xlabels))\n",
    "\n",
    "# convert frames to seconds (divide by 70 fps)\n",
    "xl = [i/70 for l in ids_r_com for i in l]\n",
    "# set xticks and offset for start/stop ranges\n",
    "plt.xticks([i for l in ids_r_com for i in l], offset_xticks(xl))\n",
    "plt.xlabel('Time')\n",
    "plt.ylabel('Elev (Z coord)')\n",
    "plt.legend()\n",
    "\n",
    "plt.savefig('mouse_stop')"
   ]
  },
  {
   "cell_type": "markdown",
   "metadata": {},
   "source": [
    "<br/><br/>\n",
    "<br/><br/>\n",
    "<br/><br/>\n",
    "GRAPHS FOR PAPER\n",
    "<br/><br/>\n",
    "digit distances over time\n",
    "<br/><br/>\n",
    "<br/><br/>\n",
    "<br/><br/>"
   ]
  },
  {
   "cell_type": "markdown",
   "metadata": {},
   "source": [
    "IMPORT MODULES"
   ]
  },
  {
   "cell_type": "code",
   "execution_count": 39,
   "metadata": {},
   "outputs": [],
   "source": [
    "from matplotlib.pyplot import cm    # used for colormap"
   ]
  },
  {
   "cell_type": "markdown",
   "metadata": {},
   "source": [
    "FUNCTIONS"
   ]
  },
  {
   "cell_type": "code",
   "execution_count": 40,
   "metadata": {},
   "outputs": [],
   "source": [
    "# DISTANCE FROM PAW TO DIGITS\n",
    "# input: model df\n",
    "# output: df_dist - df of digit distances\n",
    "#         colL/R - list of digit distance column names for left/right paw\n",
    "\n",
    "def digit_dist(df):\n",
    "\n",
    "    # seperate into paw base and digits\n",
    "    baseL = [col for col in df.columns if col[0] == 'L' and col[5] != 'D']\n",
    "    baseR = [col for col in df.columns if col[0] == 'R' and col[5] != 'D']\n",
    "    digitL = [col for col in df.columns if col[0] == 'L' and col[5] == 'D']\n",
    "    digitR = [col for col in df.columns if col[0] == 'R' and col[5] == 'D']\n",
    "\n",
    "    # create new df and empty col lists\n",
    "    df_dist = pd.DataFrame()\n",
    "    colL = []\n",
    "    colR = []\n",
    "\n",
    "    # iterate over L/R paws\n",
    "    for b,d,c in [[baseL, digitL, colL], [baseR, digitR, colR]]:\n",
    "        # iterate over each digit in paw\n",
    "        for i in range(len(digitL)//3):\n",
    "            base = df[b]\n",
    "            digit = df[d].iloc[:,3*i:3*i+3]\n",
    "            c.append(digit.columns[0][:-2]+'_dist')\n",
    "            base.columns=digit.columns = ['x','y','z']\n",
    "            diff = base-digit\n",
    "            df_dist[c[i]] = np.linalg.norm(diff, axis=1)\n",
    "    \n",
    "        df_dist[b[0][:-2]+'_sum_dist'] = df_dist[c].sum(axis=1)\n",
    "\n",
    "    return df_dist, colL, colR"
   ]
  },
  {
   "cell_type": "code",
   "execution_count": 44,
   "metadata": {},
   "outputs": [],
   "source": [
    "# GRAPH OF DISTANCE FROM PAW TO DIGITS\n",
    "# input: df of digit distances of single paw\n",
    "# output: 5 subplots -\n",
    "#         1. cumulative digit distance of D1-D4 over time\n",
    "#         2-5. seperate plots of digit distance for D1-D4 over time\n",
    "\n",
    "def dist_graph(df):\n",
    "\n",
    "    # reorder: cum dist, D1-4 dist\n",
    "    if df.columns[0][5] == 'D':\n",
    "        cols = list(df.columns)\n",
    "        cols = [cols[-1]]+cols[:-1]\n",
    "        df = df[cols]\n",
    "    else:\n",
    "        cols = df.columns\n",
    "\n",
    "    # set color scheme for left vs right paw\n",
    "    if df.columns[0][0] == 'L':\n",
    "        paw = 'r'\n",
    "        cmap = cm.Reds(np.linspace(.25,.5,4))\n",
    "    elif df.columns[0][0] == 'R':\n",
    "        paw = 'b'\n",
    "        cmap = cm.Blues(np.linspace(.5,.75,4))\n",
    "    else:\n",
    "        print('error!')\n",
    "        return\n",
    "\n",
    "    # plot all 5 subplots\n",
    "    fig, ax = plt.subplots(5, sharex=True)\n",
    "    for i in range(len(ax)):\n",
    "        if i == 0:\n",
    "            ax[i].plot(df.iloc[:,i], c=paw)\n",
    "        else:\n",
    "            ax[i].plot(df.iloc[:,i], c=cmap[i-1])\n",
    "\n",
    "        ax[i].title.set_text(cols[i][:-5])\n",
    "       \n",
    "        if i > 0:\n",
    "            ax[i].set_ylim([0,25])\n",
    "\n",
    "    fig.tight_layout()\n",
    "\n",
    "    return"
   ]
  },
  {
   "cell_type": "markdown",
   "metadata": {},
   "source": [
    "CALCULATE DIGIT DISTANCES AND PLOT"
   ]
  },
  {
   "cell_type": "code",
   "execution_count": 64,
   "metadata": {},
   "outputs": [
    {
     "name": "stdout",
     "output_type": "stream",
     "text": [
      "Using matplotlib backend: MacOSX\n"
     ]
    },
    {
     "data": {
      "text/plain": [
       "<matplotlib.legend.Legend at 0x7fb71869f0d0>"
      ]
     },
     "execution_count": 64,
     "metadata": {},
     "output_type": "execute_result"
    }
   ],
   "source": [
    "%matplotlib\n",
    "\n",
    "# digit distances\n",
    "df_digit_dist, colL, colR = digit_dist(df_all_best)\n",
    "\n",
    "# overlay left and right paw cumulative distances over time\n",
    "plt.plot(df_digit_dist['Lpaw_sum_dist'], c='r', label='Left Paw')\n",
    "plt.plot(df_digit_dist['Rpaw_sum_dist'], c='b', label = 'Right Paw')\n",
    "\n",
    "# optional, zoom in on snippet where mouse is walking to see alternating left and right paw\n",
    "# plt.ylim([0,30])\n",
    "# plt.xlim([3500,4000])\n",
    "\n",
    "# optional, include ranges where paw is stopped\n",
    "ids, ids_r, ids_r_com = get_ids([lpaw, rpawbest])\n",
    "for i,val in enumerate(ids_r_com):\n",
    "    plt.axvspan(val[0], val[1], color='r', alpha=0.2, label='_'*i + 'stop')\n",
    "plt.legend()"
   ]
  },
  {
   "cell_type": "code",
   "execution_count": 65,
   "metadata": {},
   "outputs": [
    {
     "data": {
      "text/plain": [
       "<matplotlib.legend.Legend at 0x7fb72c3bc050>"
      ]
     },
     "execution_count": 65,
     "metadata": {},
     "output_type": "execute_result"
    }
   ],
   "source": [
    "# optional, overlay all digits for left/right paw\n",
    "df_digit_dist[colL].plot()\n",
    "\n",
    "# optional, include ranges where paw is stopped\n",
    "ids, ids_r, ids_r_com = get_ids([lpaw, rpawbest])\n",
    "for i,val in enumerate(ids_r_com):\n",
    "    plt.axvspan(val[0], val[1], color='r', alpha=0.2, label='_'*i + 'stop')\n",
    "plt.legend()"
   ]
  },
  {
   "cell_type": "code",
   "execution_count": 73,
   "metadata": {},
   "outputs": [
    {
     "name": "stdout",
     "output_type": "stream",
     "text": [
      "Using matplotlib backend: MacOSX\n"
     ]
    }
   ],
   "source": [
    "# graphs of left and right digit distances\n",
    "\n",
    "%matplotlib\n",
    "Ldist = df_digit_dist[[col for col in df_digit_dist if col[0]=='L']]\n",
    "Rdist = df_digit_dist[[col for col in df_digit_dist if col[0]=='R']]\n",
    "dist_graph(Ldist)\n",
    "dist_graph(Rdist)"
   ]
  },
  {
   "cell_type": "markdown",
   "metadata": {},
   "source": [
    "<br/><br/>\n",
    "<br/><br/>\n",
    "<br/><br/>\n",
    "CURRENT WORK...\n",
    "<br/><br/>\n",
    "<br/><br/>\n",
    "<br/><br/>"
   ]
  },
  {
   "cell_type": "markdown",
   "metadata": {},
   "source": [
    "ID DIGIT DISTANCE OUTLIERS"
   ]
  },
  {
   "cell_type": "code",
   "execution_count": 163,
   "metadata": {},
   "outputs": [
    {
     "data": {
      "text/html": [
       "<div>\n",
       "<style scoped>\n",
       "    .dataframe tbody tr th:only-of-type {\n",
       "        vertical-align: middle;\n",
       "    }\n",
       "\n",
       "    .dataframe tbody tr th {\n",
       "        vertical-align: top;\n",
       "    }\n",
       "\n",
       "    .dataframe thead th {\n",
       "        text-align: right;\n",
       "    }\n",
       "</style>\n",
       "<table border=\"1\" class=\"dataframe\">\n",
       "  <thead>\n",
       "    <tr style=\"text-align: right;\">\n",
       "      <th></th>\n",
       "      <th>Lpaw_D1_dist</th>\n",
       "      <th>Lpaw_D2_dist</th>\n",
       "      <th>Lpaw_D3_dist</th>\n",
       "      <th>Lpaw_D4_dist</th>\n",
       "      <th>Lpaw_sum_dist</th>\n",
       "    </tr>\n",
       "  </thead>\n",
       "  <tbody>\n",
       "    <tr>\n",
       "      <th>count</th>\n",
       "      <td>6000.000000</td>\n",
       "      <td>6000.000000</td>\n",
       "      <td>6000.000000</td>\n",
       "      <td>6000.000000</td>\n",
       "      <td>6000.000000</td>\n",
       "    </tr>\n",
       "    <tr>\n",
       "      <th>mean</th>\n",
       "      <td>4.254400</td>\n",
       "      <td>5.016632</td>\n",
       "      <td>5.304682</td>\n",
       "      <td>3.129053</td>\n",
       "      <td>17.704767</td>\n",
       "    </tr>\n",
       "    <tr>\n",
       "      <th>std</th>\n",
       "      <td>0.794334</td>\n",
       "      <td>0.867811</td>\n",
       "      <td>0.898782</td>\n",
       "      <td>0.517251</td>\n",
       "      <td>2.824821</td>\n",
       "    </tr>\n",
       "    <tr>\n",
       "      <th>min</th>\n",
       "      <td>1.150834</td>\n",
       "      <td>0.255708</td>\n",
       "      <td>0.661368</td>\n",
       "      <td>0.780541</td>\n",
       "      <td>5.365356</td>\n",
       "    </tr>\n",
       "    <tr>\n",
       "      <th>25%</th>\n",
       "      <td>4.006216</td>\n",
       "      <td>4.818911</td>\n",
       "      <td>5.064665</td>\n",
       "      <td>2.895824</td>\n",
       "      <td>16.972285</td>\n",
       "    </tr>\n",
       "    <tr>\n",
       "      <th>50%</th>\n",
       "      <td>4.383668</td>\n",
       "      <td>5.179327</td>\n",
       "      <td>5.454447</td>\n",
       "      <td>3.178747</td>\n",
       "      <td>18.224751</td>\n",
       "    </tr>\n",
       "    <tr>\n",
       "      <th>75%</th>\n",
       "      <td>4.713313</td>\n",
       "      <td>5.464264</td>\n",
       "      <td>5.835100</td>\n",
       "      <td>3.420673</td>\n",
       "      <td>19.192311</td>\n",
       "    </tr>\n",
       "    <tr>\n",
       "      <th>max</th>\n",
       "      <td>23.817088</td>\n",
       "      <td>22.362831</td>\n",
       "      <td>21.128344</td>\n",
       "      <td>20.957888</td>\n",
       "      <td>88.266151</td>\n",
       "    </tr>\n",
       "  </tbody>\n",
       "</table>\n",
       "</div>"
      ],
      "text/plain": [
       "       Lpaw_D1_dist  Lpaw_D2_dist  Lpaw_D3_dist  Lpaw_D4_dist  Lpaw_sum_dist\n",
       "count   6000.000000   6000.000000   6000.000000   6000.000000    6000.000000\n",
       "mean       4.254400      5.016632      5.304682      3.129053      17.704767\n",
       "std        0.794334      0.867811      0.898782      0.517251       2.824821\n",
       "min        1.150834      0.255708      0.661368      0.780541       5.365356\n",
       "25%        4.006216      4.818911      5.064665      2.895824      16.972285\n",
       "50%        4.383668      5.179327      5.454447      3.178747      18.224751\n",
       "75%        4.713313      5.464264      5.835100      3.420673      19.192311\n",
       "max       23.817088     22.362831     21.128344     20.957888      88.266151"
      ]
     },
     "execution_count": 163,
     "metadata": {},
     "output_type": "execute_result"
    }
   ],
   "source": [
    "Ldist.describe()"
   ]
  },
  {
   "cell_type": "code",
   "execution_count": 23,
   "metadata": {},
   "outputs": [
    {
     "data": {
      "text/html": [
       "<div>\n",
       "<style scoped>\n",
       "    .dataframe tbody tr th:only-of-type {\n",
       "        vertical-align: middle;\n",
       "    }\n",
       "\n",
       "    .dataframe tbody tr th {\n",
       "        vertical-align: top;\n",
       "    }\n",
       "\n",
       "    .dataframe thead th {\n",
       "        text-align: right;\n",
       "    }\n",
       "</style>\n",
       "<table border=\"1\" class=\"dataframe\">\n",
       "  <thead>\n",
       "    <tr style=\"text-align: right;\">\n",
       "      <th></th>\n",
       "      <th>Lpaw_D1_dist</th>\n",
       "      <th>Lpaw_D2_dist</th>\n",
       "      <th>Lpaw_D3_dist</th>\n",
       "      <th>Lpaw_D4_dist</th>\n",
       "      <th>Lpaw_sum_dist</th>\n",
       "    </tr>\n",
       "  </thead>\n",
       "  <tbody>\n",
       "    <tr>\n",
       "      <th>102</th>\n",
       "      <td>23.817088</td>\n",
       "      <td>22.362831</td>\n",
       "      <td>21.128344</td>\n",
       "      <td>20.957888</td>\n",
       "      <td>88.266151</td>\n",
       "    </tr>\n",
       "    <tr>\n",
       "      <th>358</th>\n",
       "      <td>6.869291</td>\n",
       "      <td>10.130953</td>\n",
       "      <td>9.013518</td>\n",
       "      <td>9.836375</td>\n",
       "      <td>35.850138</td>\n",
       "    </tr>\n",
       "    <tr>\n",
       "      <th>1257</th>\n",
       "      <td>1.726407</td>\n",
       "      <td>1.409851</td>\n",
       "      <td>2.382571</td>\n",
       "      <td>1.323962</td>\n",
       "      <td>6.842791</td>\n",
       "    </tr>\n",
       "    <tr>\n",
       "      <th>4052</th>\n",
       "      <td>1.486387</td>\n",
       "      <td>1.406840</td>\n",
       "      <td>1.545653</td>\n",
       "      <td>1.405969</td>\n",
       "      <td>5.844849</td>\n",
       "    </tr>\n",
       "  </tbody>\n",
       "</table>\n",
       "</div>"
      ],
      "text/plain": [
       "      Lpaw_D1_dist  Lpaw_D2_dist  Lpaw_D3_dist  Lpaw_D4_dist  Lpaw_sum_dist\n",
       "102      23.817088     22.362831     21.128344     20.957888      88.266151\n",
       "358       6.869291     10.130953      9.013518      9.836375      35.850138\n",
       "1257      1.726407      1.409851      2.382571      1.323962       6.842791\n",
       "4052      1.486387      1.406840      1.545653      1.405969       5.844849"
      ]
     },
     "execution_count": 23,
     "metadata": {},
     "output_type": "execute_result"
    }
   ],
   "source": [
    "from scipy import stats\n",
    "Ldist[(np.abs(stats.zscore(Ldist)) > 3).all(axis=1)]"
   ]
  },
  {
   "cell_type": "code",
   "execution_count": 21,
   "metadata": {},
   "outputs": [
    {
     "data": {
      "text/plain": [
       "[102,\n",
       " 193,\n",
       " 358,\n",
       " 1257,\n",
       " 1469,\n",
       " 1470,\n",
       " 1513,\n",
       " 1514,\n",
       " 1554,\n",
       " 1556,\n",
       " 1557,\n",
       " 1596,\n",
       " 1597,\n",
       " 1644,\n",
       " 1725,\n",
       " 2509,\n",
       " 2510,\n",
       " 2511,\n",
       " 2513,\n",
       " 2557,\n",
       " 2558,\n",
       " 2559,\n",
       " 2603,\n",
       " 2646,\n",
       " 2647,\n",
       " 2780,\n",
       " 2820,\n",
       " 2921,\n",
       " 2922,\n",
       " 2924,\n",
       " 3641,\n",
       " 3854,\n",
       " 3855,\n",
       " 3998,\n",
       " 4051,\n",
       " 4052,\n",
       " 4135,\n",
       " 4136,\n",
       " 4272,\n",
       " 4273,\n",
       " 4274,\n",
       " 4294,\n",
       " 4319,\n",
       " 4497,\n",
       " 5149,\n",
       " 5257,\n",
       " 5296,\n",
       " 5355,\n",
       " 5356,\n",
       " 5357,\n",
       " 5360,\n",
       " 5460,\n",
       " 5516,\n",
       " 5531,\n",
       " 5571]"
      ]
     },
     "execution_count": 21,
     "metadata": {},
     "output_type": "execute_result"
    }
   ],
   "source": [
    "test = np.abs(stats.zscore(Ldist.iloc[:,0])) > 3\n",
    "[i for i,x in enumerate(test) if x]"
   ]
  },
  {
   "cell_type": "code",
   "execution_count": null,
   "metadata": {},
   "outputs": [],
   "source": []
  }
 ],
 "metadata": {
  "kernelspec": {
   "display_name": "Python 3",
   "language": "python",
   "name": "python3"
  },
  "language_info": {
   "codemirror_mode": {
    "name": "ipython",
    "version": 3
   },
   "file_extension": ".py",
   "mimetype": "text/x-python",
   "name": "python",
   "nbconvert_exporter": "python",
   "pygments_lexer": "ipython3",
   "version": "3.7.3"
  }
 },
 "nbformat": 4,
 "nbformat_minor": 2
}
